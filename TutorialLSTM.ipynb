{
 "cells": [
  {
   "cell_type": "markdown",
   "metadata": {},
   "source": [
    "# Long Short Term Memory\n",
    "## A simple guide using keras library "
   ]
  },
  {
   "cell_type": "markdown",
   "metadata": {},
   "source": [
    "In this tutorial we will use supernova simulations to train a Recurren Neural Network using LSTM units."
   ]
  },
  {
   "cell_type": "code",
   "execution_count": 1,
   "metadata": {},
   "outputs": [
    {
     "name": "stderr",
     "output_type": "stream",
     "text": [
      "2022-07-27 15:03:05.695169: W tensorflow/stream_executor/platform/default/dso_loader.cc:64] Could not load dynamic library 'libcudart.so.11.0'; dlerror: libcudart.so.11.0: cannot open shared object file: No such file or directory\n",
      "2022-07-27 15:03:05.695201: I tensorflow/stream_executor/cuda/cudart_stub.cc:29] Ignore above cudart dlerror if you do not have a GPU set up on your machine.\n"
     ]
    }
   ],
   "source": [
    "import h5py\n",
    "import tensorflow as tf \n",
    "import numpy as np\n",
    "import matplotlib.pyplot as plt\n",
    "from sklearn import preprocessing\n",
    "import pandas as pd"
   ]
  },
  {
   "cell_type": "markdown",
   "metadata": {},
   "source": [
    "### Load data"
   ]
  },
  {
   "cell_type": "code",
   "execution_count": 2,
   "metadata": {},
   "outputs": [],
   "source": [
    "filename = './data/supernovae.hdf5'\n",
    "f = h5py.File(filename, 'r')\n",
    "light_curves = f['curves'][()]\n",
    "labels       = f['labels'][()]\n",
    "ids          = f['sne_id'][()]\n",
    "\n",
    "I = [1,3,32,33]\n",
    "labels_new = np.array([0 if l in I else 1 for l in labels ])\n",
    "multi_class = {1: 0, 2:1, 3:2, 21:3, 22:4, 23:5, 32:6, 33:7}\n",
    "labels     = np.array([multi_class[l] for l in labels])"
   ]
  },
  {
   "cell_type": "markdown",
   "metadata": {},
   "source": [
    "<img src=\"./img/sne_types.png\" alt=\"Girl in a jacket\" width=\"350\" height=\"400\"> "
   ]
  },
  {
   "cell_type": "markdown",
   "metadata": {},
   "source": [
    "Supernova classes are very unbalanced. A faster way is to group by parent class; It means that we are going to transform a multiclass problem into a binary one."
   ]
  },
  {
   "cell_type": "code",
   "execution_count": 3,
   "metadata": {},
   "outputs": [
    {
     "data": {
      "image/png": "[encoded data removed]",
      "text/plain": [
       "<Figure size 360x216 with 2 Axes>"
      ]
     },
     "metadata": {
      "needs_background": "light"
     },
     "output_type": "display_data"
    }
   ],
   "source": [
    "fig, axes = plt.subplots(1, 2, figsize=(5,3), sharey=True)\n",
    "\n",
    "# (labels, class names, figure title)\n",
    "multi_tuple = (labels, ['Ia', 'II', 'Ibc', 'IIn', 'IIP', 'IIL', 'Ib', 'Ic'], 'All labels')\n",
    "binar_tuple = (labels_new, ['I', 'II'], 'Type I vs Type II')\n",
    "\n",
    "for index, (y_vector, cls_names, title) in enumerate([multi_tuple, binar_tuple]):\n",
    "    values, counts = np.unique(y_vector, return_counts=True)\n",
    "    x_range = np.arange(len(values))\n",
    "    axes[index].bar(x_range,counts)\n",
    "    axes[index].set_title(title)\n",
    "    axes[index].set_xticks(x_range)\n",
    "    axes[index].set_xticklabels(cls_names)\n",
    "    \n",
    "plt.show()"
   ]
  },
  {
   "cell_type": "code",
   "execution_count": 4,
   "metadata": {},
   "outputs": [
    {
     "data": {
      "image/png": "[encoded data removed]",
      "text/plain": [
       "<Figure size 1080x360 with 1 Axes>"
      ]
     },
     "metadata": {
      "needs_background": "light"
     },
     "output_type": "display_data"
    }
   ],
   "source": [
    "selected = light_curves[labels_new == 0][0]\n",
    "plt.figure(figsize=(15,5))\n",
    "\n",
    "for i, passband in enumerate(['g', 'r', 'i', 'z']):\n",
    "    plt.errorbar(selected[:,0], \n",
    "                 selected[:,i+1], \n",
    "                 yerr=selected[:,i+5], \n",
    "                 label=passband, \n",
    "                 fmt='.')\n",
    "\n",
    "plt.legend()\n",
    "plt.xlabel('Time (mjd)')\n",
    "plt.ylabel('Magnitude')\n",
    "plt.title('Supernovae type I')\n",
    "plt.show()"
   ]
  },
  {
   "cell_type": "markdown",
   "metadata": {},
   "source": [
    "\n",
    "## Data preprocessing using tf.Data"
   ]
  },
  {
   "cell_type": "code",
   "execution_count": 5,
   "metadata": {},
   "outputs": [],
   "source": [
    "INP_DIM = 9 # Number of attributes e.g., mjd, magnitudes, errors...\n",
    "NUM_CLS = len(np.unique(labels_new))\n",
    "BATCH_SIZE = 128 # Training batch size"
   ]
  },
  {
   "cell_type": "code",
   "execution_count": 39,
   "metadata": {},
   "outputs": [],
   "source": [
    "def create_generator(list_of_arrays, labels):\n",
    "    for i, j in zip(list_of_arrays, labels):\n",
    "        yield {'lightcurve': i,\n",
    "               'label'     : int(j),\n",
    "               'mask'      : np.ones(i.shape[0])}"
   ]
  },
  {
   "cell_type": "code",
   "execution_count": 40,
   "metadata": {},
   "outputs": [],
   "source": [
    "def preprocess(input_dict):\n",
    "    lc_means = tf.reduce_mean(input_dict['lightcurve'], 1)\n",
    "    lc_std   = tf.math.reduce_std(input_dict['lightcurve'], 1)\n",
    "    light_curve = (input_dict['lightcurve'] - tf.expand_dims(lc_means, 1))/tf.expand_dims(lc_std, 1)\n",
    "    cat_label   = tf.one_hot(input_dict['label'], NUM_CLS)\n",
    "    bool_mask   = tf.cast(input_dict['mask'], tf.bool)\n",
    "    return (light_curve, bool_mask), cat_label"
   ]
  },
  {
   "cell_type": "code",
   "execution_count": 53,
   "metadata": {},
   "outputs": [],
   "source": [
    "def create_dataset(light_curves, labels):\n",
    "    dataset = tf.data.Dataset.from_generator(lambda: create_generator(light_curves, labels),\n",
    "                                             output_types= {'lightcurve':tf.float32,\n",
    "                                                            'label':tf.int32,\n",
    "                                                            'mask':tf.int32},\n",
    "                                             output_shapes={'lightcurve':(None, INP_DIM),\n",
    "                                                            'label':(),\n",
    "                                                            'mask':(None)})\n",
    "    dataset = dataset.map(preprocess)\n",
    "    dataset = dataset.shuffle(1000) # shuffling in chunks of 1000 objects \n",
    "    dataset = dataset.padded_batch(BATCH_SIZE, padded_shapes=(([None, INP_DIM], [None]), [NUM_CLS]))\n",
    "    return dataset"
   ]
  },
  {
   "cell_type": "code",
   "execution_count": 54,
   "metadata": {},
   "outputs": [],
   "source": [
    "from sklearn.model_selection import train_test_split"
   ]
  },
  {
   "cell_type": "code",
   "execution_count": 55,
   "metadata": {},
   "outputs": [],
   "source": [
    "x_train, x_rest, \\\n",
    "y_train, y_rest = train_test_split(light_curves, labels_new, test_size=0.5, random_state=42)\n",
    "\n",
    "x_val, x_test, \\\n",
    "y_val, y_test = train_test_split(x_rest, y_rest, test_size=0.5, random_state=42)"
   ]
  },
  {
   "cell_type": "code",
   "execution_count": 78,
   "metadata": {},
   "outputs": [
    {
     "data": {
      "text/plain": [
       "array([1, 1, 0, ..., 1, 1, 1])"
      ]
     },
     "execution_count": 78,
     "metadata": {},
     "output_type": "execute_result"
    }
   ],
   "source": [
    "y_train"
   ]
  },
  {
   "cell_type": "code",
   "execution_count": 56,
   "metadata": {},
   "outputs": [],
   "source": [
    "train_batches = create_dataset(x_train, y_train) \n",
    "valid_batches = create_dataset(x_val, y_val)\n",
    "test_batches  = create_dataset(x_test, y_test)"
   ]
  },
  {
   "cell_type": "code",
   "execution_count": 57,
   "metadata": {},
   "outputs": [
    {
     "name": "stdout",
     "output_type": "stream",
     "text": [
      "(128, 30, 9)\n",
      "(128, 30)\n",
      "(128, 2)\n"
     ]
    }
   ],
   "source": [
    "for (x,m), y in valid_batches:\n",
    "    print(x.shape)\n",
    "    print(m.shape)\n",
    "    print(y.shape)\n",
    "    break"
   ]
  },
  {
   "cell_type": "code",
   "execution_count": null,
   "metadata": {},
   "outputs": [],
   "source": []
  },
  {
   "cell_type": "markdown",
   "metadata": {},
   "source": [
    "## Long Short Term Memory"
   ]
  },
  {
   "cell_type": "markdown",
   "metadata": {},
   "source": [
    "Using ```Sequential()``` class from *Keras Library* we can stack several layers. In this case, we will use recurrent and dense layer for *the middle learning* and dense activated layer for the output. Remember that the output should have the same dimension as number of classes are considered.<br><br>A graphical representation is shown bellow \n",
    "\n",
    "<img src=\"./img/archi.png\" alt=\"Girl in a jacket\" width=\"700\" height=\"400\"> "
   ]
  },
  {
   "cell_type": "code",
   "execution_count": 82,
   "metadata": {},
   "outputs": [],
   "source": [
    "from tensorflow.keras.models import Sequential, Model\n",
    "from tensorflow.keras.layers import Dense, Activation, LSTM, Dropout, Input, LayerNormalization\n",
    "from tensorflow.keras.callbacks import EarlyStopping"
   ]
  },
  {
   "cell_type": "code",
   "execution_count": 83,
   "metadata": {},
   "outputs": [],
   "source": [
    "# Params \n",
    "n_neurons    = 32  # Neurons in each gate of LSTM\n",
    "dropout_prob = 0.2 # Fraction of the units to drop "
   ]
  },
  {
   "cell_type": "code",
   "execution_count": 84,
   "metadata": {},
   "outputs": [
    {
     "name": "stdout",
     "output_type": "stream",
     "text": [
      "Model: \"model_7\"\n",
      "__________________________________________________________________________________________________\n",
      " Layer (type)                   Output Shape         Param #     Connected to                     \n",
      "==================================================================================================\n",
      " input_15 (InputLayer)          [(None, None, 9)]    0           []                               \n",
      "                                                                                                  \n",
      " lstm_14 (LSTM)                 (None, None, 32)     5376        ['input_15[0][0]']               \n",
      "                                                                                                  \n",
      " layer_normalization_1 (LayerNo  (None, None, 32)    64          ['lstm_14[0][0]']                \n",
      " rmalization)                                                                                     \n",
      "                                                                                                  \n",
      " lstm_15 (LSTM)                 (None, 32)           8320        ['layer_normalization_1[0][0]']  \n",
      "                                                                                                  \n",
      " dense_14 (Dense)               (None, 32)           1056        ['lstm_15[0][0]']                \n",
      "                                                                                                  \n",
      " input_16 (InputLayer)          [(None, None)]       0           []                               \n",
      "                                                                                                  \n",
      " dense_15 (Dense)               (None, 2)            66          ['dense_14[0][0]']               \n",
      "                                                                                                  \n",
      "==================================================================================================\n",
      "Total params: 14,882\n",
      "Trainable params: 14,882\n",
      "Non-trainable params: 0\n",
      "__________________________________________________________________________________________________\n"
     ]
    }
   ],
   "source": [
    "lc_placeholder   = Input(shape=(None, INP_DIM), dtype=tf.float32)\n",
    "mask_placeholder = Input(shape=(None,), dtype=tf.bool)\n",
    "inputs = (lc_placeholder, mask_placeholder)\n",
    "\n",
    "x = LSTM(n_neurons, return_sequences=True, dropout=dropout_prob)(inputs[0])\n",
    "x = LayerNormalization()(x)\n",
    "x = LSTM(n_neurons, dropout=dropout_prob)(x)\n",
    "x = Dense(n_neurons)(x)\n",
    "y_pred = Dense(NUM_CLS, activation='softmax')(x)\n",
    "\n",
    "model = Model(inputs=inputs, outputs=y_pred)\n",
    "model.compile(optimizer='adam',\n",
    "              loss=tf.keras.losses.CategoricalCrossentropy(from_logits=False),\n",
    "              metrics=['acc'])\n",
    "\n",
    "model.summary()"
   ]
  },
  {
   "cell_type": "code",
   "execution_count": 85,
   "metadata": {
    "scrolled": true
   },
   "outputs": [
    {
     "name": "stdout",
     "output_type": "stream",
     "text": [
      "Epoch 1/20\n",
      "280/280 [==============================] - 15s 45ms/step - loss: 0.6570 - acc: 0.6374 - val_loss: 0.6580 - val_acc: 0.6327\n",
      "Epoch 2/20\n",
      "280/280 [==============================] - 12s 43ms/step - loss: 0.6560 - acc: 0.6375 - val_loss: 0.6584 - val_acc: 0.6327\n",
      "Epoch 3/20\n",
      "280/280 [==============================] - 18s 65ms/step - loss: 0.6556 - acc: 0.6375 - val_loss: 0.6576 - val_acc: 0.6327\n",
      "Epoch 4/20\n",
      "280/280 [==============================] - 17s 60ms/step - loss: 0.6553 - acc: 0.6375 - val_loss: 0.6580 - val_acc: 0.6327\n",
      "Epoch 5/20\n",
      "280/280 [==============================] - 18s 64ms/step - loss: 0.6553 - acc: 0.6375 - val_loss: 0.6579 - val_acc: 0.6327\n",
      "Epoch 6/20\n",
      "280/280 [==============================] - 16s 57ms/step - loss: 0.6555 - acc: 0.6375 - val_loss: 0.6575 - val_acc: 0.6327\n",
      "Epoch 7/20\n",
      "280/280 [==============================] - 17s 61ms/step - loss: 0.6553 - acc: 0.6375 - val_loss: 0.6575 - val_acc: 0.6327\n",
      "Epoch 8/20\n",
      "280/280 [==============================] - 16s 58ms/step - loss: 0.6552 - acc: 0.6375 - val_loss: 0.6575 - val_acc: 0.6327\n",
      "Epoch 9/20\n",
      "280/280 [==============================] - 18s 65ms/step - loss: 0.6551 - acc: 0.6375 - val_loss: 0.6575 - val_acc: 0.6327\n",
      "Epoch 10/20\n",
      "280/280 [==============================] - 18s 63ms/step - loss: 0.6554 - acc: 0.6375 - val_loss: 0.6578 - val_acc: 0.6327\n",
      "Epoch 11/20\n",
      "280/280 [==============================] - 16s 57ms/step - loss: 0.6552 - acc: 0.6375 - val_loss: 0.6575 - val_acc: 0.6327\n",
      "Epoch 12/20\n",
      "280/280 [==============================] - 16s 57ms/step - loss: 0.6551 - acc: 0.6375 - val_loss: 0.6575 - val_acc: 0.6327\n",
      "Epoch 13/20\n",
      "280/280 [==============================] - 16s 58ms/step - loss: 0.6552 - acc: 0.6375 - val_loss: 0.6577 - val_acc: 0.6327\n",
      "Epoch 14/20\n",
      "280/280 [==============================] - 16s 57ms/step - loss: 0.6552 - acc: 0.6375 - val_loss: 0.6575 - val_acc: 0.6327\n",
      "Epoch 15/20\n",
      "280/280 [==============================] - 16s 57ms/step - loss: 0.6551 - acc: 0.6375 - val_loss: 0.6575 - val_acc: 0.6327\n",
      "Epoch 16/20\n",
      "280/280 [==============================] - 17s 60ms/step - loss: 0.6550 - acc: 0.6375 - val_loss: 0.6576 - val_acc: 0.6327\n",
      "Epoch 17/20\n",
      "280/280 [==============================] - 16s 57ms/step - loss: 0.6551 - acc: 0.6375 - val_loss: 0.6576 - val_acc: 0.6327\n",
      "Epoch 18/20\n",
      "280/280 [==============================] - 17s 61ms/step - loss: 0.6551 - acc: 0.6375 - val_loss: 0.6576 - val_acc: 0.6327\n",
      "Epoch 19/20\n",
      "280/280 [==============================] - 17s 61ms/step - loss: 0.6550 - acc: 0.6375 - val_loss: 0.6578 - val_acc: 0.6327\n",
      "Epoch 20/20\n",
      "280/280 [==============================] - 16s 57ms/step - loss: 0.6549 - acc: 0.6375 - val_loss: 0.6576 - val_acc: 0.6327\n"
     ]
    }
   ],
   "source": [
    "history = model.fit(x=train_batches, \n",
    "                    epochs=20,\n",
    "                    validation_data=valid_batches,\n",
    "                    callbacks = [EarlyStopping(patience=5)])"
   ]
  },
  {
   "cell_type": "code",
   "execution_count": 88,
   "metadata": {},
   "outputs": [
    {
     "name": "stdout",
     "output_type": "stream",
     "text": [
      "Accuracy:0.6357848885910538\n",
      "F1:0.38867267513314213\n"
     ]
    }
   ],
   "source": [
    "from sklearn.metrics import accuracy_score\n",
    "from sklearn.metrics import f1_score\n",
    "\n",
    "y_probas = model.predict(test_batches)\n",
    "y_pred   = np.argmax(y_probas, axis=1)\n",
    "\n",
    "y_test   = np.concatenate([y for _, y in test_batches], 0)\n",
    "y_true   = np.argmax(y_test, axis=1)\n",
    "\n",
    "acc_test = accuracy_score(y_true, y_pred)\n",
    "f1_score = f1_score(y_true, y_pred, average='macro') \n",
    "print('Accuracy:{}\\nF1:{}'.format(acc_test, f1_score))"
   ]
  },
  {
   "cell_type": "code",
   "execution_count": 89,
   "metadata": {},
   "outputs": [
    {
     "data": {
      "image/png": "[encoded data removed]",
      "text/plain": [
       "<Figure size 1080x360 with 1 Axes>"
      ]
     },
     "metadata": {
      "needs_background": "light"
     },
     "output_type": "display_data"
    },
    {
     "data": {
      "image/png": "[encoded data removed]",
      "text/plain": [
       "<Figure size 1080x360 with 1 Axes>"
      ]
     },
     "metadata": {
      "needs_background": "light"
     },
     "output_type": "display_data"
    }
   ],
   "source": [
    "# summarize history for accuracy\n",
    "plt.figure(figsize=(15,5))\n",
    "plt.plot(history.history['acc'])\n",
    "plt.plot(history.history['val_acc'])\n",
    "plt.title('model accuracy')\n",
    "plt.ylabel('accuracy')\n",
    "plt.xlabel('epoch')\n",
    "plt.legend(['train', 'validation'], loc='upper left')\n",
    "plt.show()\n",
    "\n",
    "# summarize history for loss\n",
    "plt.figure(figsize=(15,5))\n",
    "plt.plot(history.history['loss'])\n",
    "plt.plot(history.history['val_loss'])\n",
    "plt.title('model loss')\n",
    "plt.ylabel('loss')\n",
    "plt.xlabel('epoch')\n",
    "plt.legend(['train', 'validation'], loc='upper left')\n",
    "plt.show()"
   ]
  },
  {
   "cell_type": "code",
   "execution_count": 68,
   "metadata": {},
   "outputs": [
    {
     "data": {
      "image/png": "[encoded data removed]",
      "text/plain": [
       "<matplotlib.figure.Figure at 0x7fe98a613f60>"
      ]
     },
     "metadata": {},
     "output_type": "display_data"
    }
   ],
   "source": [
    "from sklearn.metrics import confusion_matrix\n",
    "from visual import plot_confusion_matrix\n",
    "class_names = ['I', 'II']\n",
    "cnf_matrix = confusion_matrix(y_true, y_pred)\n",
    "# Plot non-normalized confusion matrix\n",
    "plt.figure(figsize=(17,8))\n",
    "plt.subplot(121)\n",
    "plot_confusion_matrix(cnf_matrix, classes=class_names,\n",
    "                      title='Confusion matrix, without normalization')\n",
    "\n",
    "# Plot normalized confusion matrix\n",
    "plt.subplot(122)\n",
    "plot_confusion_matrix(cnf_matrix, classes=class_names, normalize=True,\n",
    "                      title='Normalized confusion matrix')"
   ]
  },
  {
   "cell_type": "code",
   "execution_count": null,
   "metadata": {},
   "outputs": [],
   "source": []
  },
  {
   "cell_type": "code",
   "execution_count": null,
   "metadata": {},
   "outputs": [],
   "source": []
  },
  {
   "cell_type": "code",
   "execution_count": null,
   "metadata": {},
   "outputs": [],
   "source": []
  },
  {
   "cell_type": "code",
   "execution_count": null,
   "metadata": {},
   "outputs": [],
   "source": []
  },
  {
   "cell_type": "code",
   "execution_count": null,
   "metadata": {},
   "outputs": [],
   "source": []
  },
  {
   "cell_type": "code",
   "execution_count": null,
   "metadata": {},
   "outputs": [],
   "source": []
  },
  {
   "cell_type": "code",
   "execution_count": null,
   "metadata": {},
   "outputs": [],
   "source": []
  }
 ],
 "metadata": {
  "kernelspec": {
   "display_name": "Python 3 (ipykernel)",
   "language": "python",
   "name": "python3"
  },
  "language_info": {
   "codemirror_mode": {
    "name": "ipython",
    "version": 3
   },
   "file_extension": ".py",
   "mimetype": "text/x-python",
   "name": "python",
   "nbconvert_exporter": "python",
   "pygments_lexer": "ipython3",
   "version": "3.9.7"
  }
 },
 "nbformat": 4,
 "nbformat_minor": 2
}
